{
 "cells": [
  {
   "cell_type": "markdown",
   "id": "f8d7d91a",
   "metadata": {},
   "source": [
    "# Have the function LetterCapitalize(str) take the str parameter being passed and capitalize the first letter of each word. Words will be separated by only one space."
   ]
  },
  {
   "cell_type": "markdown",
   "id": "0e0b6b57",
   "metadata": {},
   "source": [
    "## Using the title() Method"
   ]
  },
  {
   "cell_type": "code",
   "execution_count": 1,
   "id": "76a4d78b",
   "metadata": {},
   "outputs": [
    {
     "name": "stdout",
     "output_type": "stream",
     "text": [
      "Hello World\n"
     ]
    }
   ],
   "source": [
    "def LetterCapitalize(s):\n",
    "    return s.title()\n",
    "\n",
    "# Example usage\n",
    "print(LetterCapitalize(\"hello world\")) "
   ]
  },
  {
   "cell_type": "markdown",
   "id": "c3cfb6d7",
   "metadata": {},
   "source": [
    "## Using split() and join()"
   ]
  },
  {
   "cell_type": "code",
   "execution_count": 2,
   "id": "5309acb7",
   "metadata": {},
   "outputs": [
    {
     "name": "stdout",
     "output_type": "stream",
     "text": [
      "Hello World\n"
     ]
    }
   ],
   "source": [
    "def LetterCapitalize(s):\n",
    "    # Split the string into words\n",
    "    words = s.split()\n",
    "    \n",
    "    # Capitalize the first letter of each word\n",
    "    capitalized_words = [word.capitalize() for word in words]\n",
    "    \n",
    "    # Join the capitalized words back into a single string\n",
    "    return ' '.join(capitalized_words)\n",
    "\n",
    "# Example usage\n",
    "print(LetterCapitalize(\"hello world\"))"
   ]
  },
  {
   "cell_type": "code",
   "execution_count": null,
   "id": "a63516ae",
   "metadata": {},
   "outputs": [],
   "source": []
  }
 ],
 "metadata": {
  "kernelspec": {
   "display_name": "Python 3 (ipykernel)",
   "language": "python",
   "name": "python3"
  },
  "language_info": {
   "codemirror_mode": {
    "name": "ipython",
    "version": 3
   },
   "file_extension": ".py",
   "mimetype": "text/x-python",
   "name": "python",
   "nbconvert_exporter": "python",
   "pygments_lexer": "ipython3",
   "version": "3.10.9"
  }
 },
 "nbformat": 4,
 "nbformat_minor": 5
}
